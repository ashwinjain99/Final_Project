{
  "nbformat": 4,
  "nbformat_minor": 0,
  "metadata": {
    "colab": {
      "provenance": []
    },
    "kernelspec": {
      "name": "python3",
      "display_name": "Python 3"
    },
    "language_info": {
      "name": "python"
    }
  },
  "cells": [
    {
      "cell_type": "code",
      "source": [
        "! pip install pyspark"
      ],
      "metadata": {
        "colab": {
          "base_uri": "https://localhost:8080/"
        },
        "id": "RndAUQ-kI6r7",
        "outputId": "2697bd7a-4875-4289-9bfd-1ca6423239f7"
      },
      "execution_count": 141,
      "outputs": [
        {
          "output_type": "stream",
          "name": "stdout",
          "text": [
            "Requirement already satisfied: pyspark in /usr/local/lib/python3.10/dist-packages (3.4.1)\n",
            "Requirement already satisfied: py4j==0.10.9.7 in /usr/local/lib/python3.10/dist-packages (from pyspark) (0.10.9.7)\n"
          ]
        }
      ]
    },
    {
      "cell_type": "code",
      "source": [
        "! pip install findspark"
      ],
      "metadata": {
        "colab": {
          "base_uri": "https://localhost:8080/"
        },
        "id": "HGszrQH4ZL9N",
        "outputId": "170630a8-4c2b-4c42-a524-be81b5f44fa2"
      },
      "execution_count": 142,
      "outputs": [
        {
          "output_type": "stream",
          "name": "stdout",
          "text": [
            "Requirement already satisfied: findspark in /usr/local/lib/python3.10/dist-packages (2.0.1)\n"
          ]
        }
      ]
    },
    {
      "cell_type": "code",
      "source": [
        "! pip install spark"
      ],
      "metadata": {
        "colab": {
          "base_uri": "https://localhost:8080/"
        },
        "id": "TQU1b7RfhKN2",
        "outputId": "04d55402-bee0-49b5-e14a-8af73a64dfe7"
      },
      "execution_count": 143,
      "outputs": [
        {
          "output_type": "stream",
          "name": "stdout",
          "text": [
            "Requirement already satisfied: spark in /usr/local/lib/python3.10/dist-packages (0.2.1)\n"
          ]
        }
      ]
    },
    {
      "cell_type": "code",
      "source": [
        "import os\n",
        "# Find the latest version of spark 3.x  from http://www.apache.org/dist/spark/ and enter as the spark version\n",
        "# For example:\n",
        "# spark_version = 'spark-3.4.0'\n",
        "spark_version = 'spark-3.4.0'\n",
        "os.environ['SPARK_VERSION']=spark_version\n",
        "\n",
        "# Install Spark and Java\n",
        "!apt-get update\n",
        "!apt-get install openjdk-11-jdk-headless -qq > /dev/null\n",
        "!wget -q http://www.apache.org/dist/spark/$SPARK_VERSION/$SPARK_VERSION-bin-hadoop3.tgz\n",
        "!tar xf $SPARK_VERSION-bin-hadoop3.tgz\n",
        "!pip install -q findspark\n",
        "\n",
        "# Set Environment Variables\n",
        "os.environ[\"JAVA_HOME\"] = \"/usr/lib/jvm/java-11-openjdk-amd64\"\n",
        "os.environ[\"SPARK_HOME\"] = f\"/content/{spark_version}-bin-hadoop3\"\n",
        "\n",
        "# Start a SparkSession\n",
        "import findspark\n",
        "findspark.init()"
      ],
      "metadata": {
        "id": "5sb_4Jz3Y8gG",
        "colab": {
          "base_uri": "https://localhost:8080/"
        },
        "outputId": "9986be33-d919-4f50-b07c-d9db1ddb03ba"
      },
      "execution_count": 144,
      "outputs": [
        {
          "output_type": "stream",
          "name": "stdout",
          "text": [
            "\r0% [Working]\r            \rGet:1 http://security.ubuntu.com/ubuntu jammy-security InRelease [110 kB]\n",
            "\r0% [Waiting for headers] [1 InRelease 14.2 kB/110 kB 13%] [Connected to cloud.r\r                                                                               \rHit:2 http://archive.ubuntu.com/ubuntu jammy InRelease\n",
            "\r0% [Waiting for headers] [1 InRelease 110 kB/110 kB 100%] [Connected to cloud.r\r                                                                               \rGet:3 http://archive.ubuntu.com/ubuntu jammy-updates InRelease [119 kB]\n",
            "\r0% [Waiting for headers] [Connected to cloud.r-project.org (65.9.86.28)] [Conne\r                                                                               \rGet:4 http://archive.ubuntu.com/ubuntu jammy-backports InRelease [109 kB]\n",
            "\r0% [4 InRelease 54.7 kB/109 kB 50%] [Connected to cloud.r-project.org (65.9.86.\r0% [Waiting for headers] [Connected to ppa.launchpadcontent.net (185.125.190.52\r                                                                               \rHit:5 https://cloud.r-project.org/bin/linux/ubuntu jammy-cran40/ InRelease\n",
            "\r0% [Connected to ppa.launchpadcontent.net (185.125.190.52)] [Waiting for header\r                                                                               \rHit:6 https://ppa.launchpadcontent.net/c2d4u.team/c2d4u4.0+/ubuntu jammy InRelease\n",
            "\r                                                                               \r0% [Waiting for headers]\r                        \rHit:7 https://developer.download.nvidia.com/compute/cuda/repos/ubuntu2204/x86_64  InRelease\n",
            "Hit:8 https://ppa.launchpadcontent.net/deadsnakes/ppa/ubuntu jammy InRelease\n",
            "Hit:9 https://ppa.launchpadcontent.net/graphics-drivers/ppa/ubuntu jammy InRelease\n",
            "Hit:10 https://ppa.launchpadcontent.net/ubuntugis/ppa/ubuntu jammy InRelease\n",
            "Fetched 338 kB in 2s (204 kB/s)\n",
            "Reading package lists... Done\n"
          ]
        }
      ]
    },
    {
      "cell_type": "code",
      "execution_count": 145,
      "metadata": {
        "id": "0J9b0vFtI0Cb"
      },
      "outputs": [],
      "source": [
        "# Import packages\n",
        "from pyspark.sql import SparkSession\n",
        "from pyspark.sql import Row\n",
        "from pyspark.sql.types import StructType,StructField,StringType, DateType,IntegerType\n",
        "from pyspark import SparkFiles\n",
        "from pyspark.ml import Pipeline\n",
        "from pyspark.ml.feature import StringIndexer, VectorAssembler, OneHotEncoder\n",
        "from pyspark.ml.classification import DecisionTreeClassifier\n",
        "from pyspark.ml.evaluation import MulticlassClassificationEvaluator\n",
        "from pyspark.ml.tuning import CrossValidator, ParamGridBuilder\n"
      ]
    },
    {
      "cell_type": "code",
      "source": [
        "# Start Spark session\n",
        "from pyspark.sql import SparkSession\n",
        "spark = SparkSession.builder.appName(\"LeadWaterLevels\").getOrCreate()"
      ],
      "metadata": {
        "id": "iZ6-ajD5h2EC"
      },
      "execution_count": 146,
      "outputs": []
    },
    {
      "cell_type": "code",
      "source": [
        "from pyspark import SparkFiles\n",
        "\n",
        "school_df = spark.read.csv(\"cleaned_water_data.csv\", sep=\",\", header=True,inferSchema=True)"
      ],
      "metadata": {
        "id": "EHBXCwsKh_ir"
      },
      "execution_count": 147,
      "outputs": []
    },
    {
      "cell_type": "code",
      "source": [
        "#Data Frame School Water\n",
        "school_df.show(5)\n"
      ],
      "metadata": {
        "colab": {
          "base_uri": "https://localhost:8080/"
        },
        "id": "wJ4o_wF2P7Dr",
        "outputId": "b84a0e0a-6771-46b0-ce10-3d30ea8f2eed"
      },
      "execution_count": 148,
      "outputs": [
        {
          "output_type": "stream",
          "name": "stdout",
          "text": [
            "+------+-----+--------------------+--------------------+-------------------------------------+---------------------------------------+----------------+----------------+--------------------+\n",
            "|County|  Zip|              School|Type of Organization|Any Building with Lead-Free Plumbing?|Number of Outlets that Require Sampling|Outlets ≤ 15 ppb|Outlets > 15 ppb|     County Location|\n",
            "+------+-----+--------------------+--------------------+-------------------------------------+---------------------------------------+----------------+----------------+--------------------+\n",
            "|Albany|12009|         ALTAMONT ES|       Public School|                                   No|                                   63.0|            63.0|             0.0|(42.678066, -73.8...|\n",
            "|Albany|12047|ABRAM LANSING SCHOOL|       Public School|                                   No|                                   74.0|            74.0|             0.0|(42.678066, -73.8...|\n",
            "|Albany|12047|  BOGHT HILLS SCHOOL|       Public School|                                   No|                                   81.0|            80.0|             1.0|(42.678066, -73.8...|\n",
            "|Albany|12047|           COHOES HS|       Public School|                                   No|                                   53.0|            53.0|             0.0|(42.678066, -73.8...|\n",
            "|Albany|12047|     HARMONY HILL ES|       Public School|                                   No|                                   86.0|            86.0|             0.0|(42.678066, -73.8...|\n",
            "+------+-----+--------------------+--------------------+-------------------------------------+---------------------------------------+----------------+----------------+--------------------+\n",
            "only showing top 5 rows\n",
            "\n"
          ]
        }
      ]
    },
    {
      "cell_type": "code",
      "source": [
        "#look at the statistics of plumbing outlets\n",
        "school_df.select(['Outlets ≤ 15 ppb','Outlets > 15 ppb']).describe().show()"
      ],
      "metadata": {
        "colab": {
          "base_uri": "https://localhost:8080/"
        },
        "id": "Vn_TPgdwRECq",
        "outputId": "19a1a223-8690-4a3a-f38b-a4c64afdb0ae"
      },
      "execution_count": 149,
      "outputs": [
        {
          "output_type": "stream",
          "name": "stdout",
          "text": [
            "+-------+------------------+-----------------+\n",
            "|summary|  Outlets ≤ 15 ppb| Outlets > 15 ppb|\n",
            "+-------+------------------+-----------------+\n",
            "|  count|              3366|             3366|\n",
            "|   mean| 80.46850861556744|4.065359477124183|\n",
            "| stddev|48.434493872706874|8.314144501152382|\n",
            "|    min|               0.0|              0.0|\n",
            "|    max|             420.0|            143.0|\n",
            "+-------+------------------+-----------------+\n",
            "\n"
          ]
        }
      ]
    },
    {
      "cell_type": "markdown",
      "source": [
        "# Schools in New York Water Data\n",
        "First read in the data using pyspark, dropped columns that did not have testable data in them, then split the data into Training and testing sets to check the accuracy of the following question:\n",
        "    Are there any schools in New york that have Lead Free Plumbing?"
      ],
      "metadata": {
        "id": "VfTm9AZATtHJ"
      }
    },
    {
      "cell_type": "code",
      "source": [
        "#Drop specific columns that are not needed I created a variable, so it would copy and not edit the original dataframe\n",
        "df=school_df.drop('County','County Location','Type of Organization','School')\n",
        "\n",
        "\n",
        "#rename columns to eliminate spaces\n",
        "df=df.withColumnRenamed(\"Zip\",\"ZipCode\")\\\n",
        "                    .withColumnRenamed(\"Number of Outlets that Require Sampling\",\"numberOfSamples\")\\\n",
        "                    .withColumnRenamed(\"Outlets ≤ 15 ppb\",\"OverFifteen\")\\\n",
        "                    .withColumnRenamed(\"Outlets > 15 ppb\",\"LessFifteen\")\n",
        "df.show(2)"
      ],
      "metadata": {
        "colab": {
          "base_uri": "https://localhost:8080/"
        },
        "id": "-tr5hqrsT1KL",
        "outputId": "dd496851-b723-4a9c-f19f-9ccdb21a7f90"
      },
      "execution_count": 155,
      "outputs": [
        {
          "output_type": "stream",
          "name": "stdout",
          "text": [
            "+-------+-------------------------------------+---------------+-----------+-----------+\n",
            "|ZipCode|Any Building with Lead-Free Plumbing?|numberOfSamples|OverFifteen|LessFifteen|\n",
            "+-------+-------------------------------------+---------------+-----------+-----------+\n",
            "|  12009|                                   No|           63.0|       63.0|        0.0|\n",
            "|  12047|                                   No|           74.0|       74.0|        0.0|\n",
            "+-------+-------------------------------------+---------------+-----------+-----------+\n",
            "only showing top 2 rows\n",
            "\n"
          ]
        }
      ]
    },
    {
      "cell_type": "markdown",
      "source": [
        "Split Train/Test lead Data"
      ],
      "metadata": {
        "id": "Deud8UMWVxXy"
      }
    },
    {
      "cell_type": "code",
      "source": [
        "from pyspark.ml.feature import StringIndexer\n",
        "#create an indexer\n",
        "indexer= StringIndexer(inputCol='Any Building with Lead-Free Plumbing?',outputCol='BuildingIndex')"
      ],
      "metadata": {
        "id": "Jr6Tf27hgimF"
      },
      "execution_count": 156,
      "outputs": []
    },
    {
      "cell_type": "code",
      "source": [
        "from pyspark.ml.feature import OneHotEncoder\n",
        "onehot_encoder=OneHotEncoder(inputCol=\"BuildingIndex\",outputCol=\"Building_vec\")\n"
      ],
      "metadata": {
        "id": "klSnDXAwqamw"
      },
      "execution_count": 157,
      "outputs": []
    },
    {
      "cell_type": "code",
      "source": [
        "#Merge columns into a vector column\n",
        "vector_assembler=VectorAssembler(inputCols=['ZipCode', 'numberOfSamples','OverFifteen','LessFifteen','Building_vec'],outputCol=\"features\")"
      ],
      "metadata": {
        "id": "b-gl8yyiwLYy"
      },
      "execution_count": 161,
      "outputs": []
    },
    {
      "cell_type": "code",
      "source": [
        "#Create a Pipeline\n",
        "pipeline=Pipeline(stages=[indexer,onehot_encoder,vector_assembler])"
      ],
      "metadata": {
        "id": "F_8JXYC8co9o"
      },
      "execution_count": 162,
      "outputs": []
    },
    {
      "cell_type": "code",
      "source": [
        "#fit and transform\n",
        "df_transformed=pipeline.fit(df).transform(df)\n",
        "df_transformed.show(3)"
      ],
      "metadata": {
        "colab": {
          "base_uri": "https://localhost:8080/"
        },
        "id": "do3pg9Crw4LS",
        "outputId": "df16d1cf-9caf-4ba1-ef67-6718dfdb4e36"
      },
      "execution_count": 163,
      "outputs": [
        {
          "output_type": "stream",
          "name": "stdout",
          "text": [
            "+-------+-------------------------------------+---------------+-----------+-----------+-------------+-------------+--------------------+\n",
            "|ZipCode|Any Building with Lead-Free Plumbing?|numberOfSamples|OverFifteen|LessFifteen|BuildingIndex| Building_vec|            features|\n",
            "+-------+-------------------------------------+---------------+-----------+-----------+-------------+-------------+--------------------+\n",
            "|  12009|                                   No|           63.0|       63.0|        0.0|          0.0|(3,[0],[1.0])|[12009.0,63.0,63....|\n",
            "|  12047|                                   No|           74.0|       74.0|        0.0|          0.0|(3,[0],[1.0])|[12047.0,74.0,74....|\n",
            "|  12047|                                   No|           81.0|       80.0|        1.0|          0.0|(3,[0],[1.0])|[12047.0,81.0,80....|\n",
            "+-------+-------------------------------------+---------------+-----------+-----------+-------------+-------------+--------------------+\n",
            "only showing top 3 rows\n",
            "\n"
          ]
        }
      ]
    },
    {
      "cell_type": "code",
      "source": [
        "df_transformed=df_transformed.select('BuildingIndex','features')"
      ],
      "metadata": {
        "id": "g0fJFnBpxMr6"
      },
      "execution_count": 164,
      "outputs": []
    },
    {
      "cell_type": "code",
      "source": [
        "#Split the data into training and testing sets\n",
        "train,test=df_transformed.randomSplit([0.8,0.2],seed=52)\n"
      ],
      "metadata": {
        "id": "3my5Ek4rdPGP"
      },
      "execution_count": 165,
      "outputs": []
    },
    {
      "cell_type": "markdown",
      "source": [
        "## Decsion Tree Model\n",
        "Looking at the school building and whether there is Any Building with Lead-Free Plumbing. The Results were:\n",
        "Test Error-0%\n",
        "Accuracy-99%"
      ],
      "metadata": {
        "id": "_evbgRaa8ZjL"
      }
    },
    {
      "cell_type": "code",
      "source": [
        "#Create Decsion Tree Classifier\n",
        "tree=DecisionTreeClassifier(labelCol=\"BuildingIndex\",featuresCol=\"features\")\n",
        "# train our model using training data\n",
        "model=tree.fit(train)\n",
        "# test our model and make predictions using testing data\n",
        "prediction=model.transform(test)"
      ],
      "metadata": {
        "id": "6EaDcfrIdthT"
      },
      "execution_count": 166,
      "outputs": []
    },
    {
      "cell_type": "code",
      "source": [
        "from pyspark.ml.evaluation import MulticlassClassificationEvaluator\n",
        "evaluator = MulticlassClassificationEvaluator(labelCol=\"BuildingIndex\", predictionCol=\"prediction\",metricName=\"accuracy\")\n",
        "accuracy = evaluator.evaluate(prediction)\n",
        "print(\"Test Error = %g \" % (1.0 - accuracy))\n",
        "print(\"Accuracy = %g \" % accuracy)"
      ],
      "metadata": {
        "colab": {
          "base_uri": "https://localhost:8080/"
        },
        "id": "K8gkyaDz2NIP",
        "outputId": "349eaba6-4109-4909-f3cc-3bbaa8e78a38"
      },
      "execution_count": 168,
      "outputs": [
        {
          "output_type": "stream",
          "name": "stdout",
          "text": [
            "Test Error = 0.00149477 \n",
            "Accuracy = 0.998505 \n"
          ]
        }
      ]
    },
    {
      "cell_type": "markdown",
      "source": [
        "## Random Forest Model\n",
        "Looking at the school building and whether there is Any Building with Lead-Free Plumbing. The Results were:\n",
        "Test Error=0%\n",
        "Accuracy=100%"
      ],
      "metadata": {
        "id": "-NDCEM8q5AfK"
      }
    },
    {
      "cell_type": "code",
      "source": [
        "from pyspark.ml.classification import RandomForestClassifier\n",
        "\n",
        "\n",
        "rf = RandomForestClassifier(labelCol=\"BuildingIndex\",featuresCol=\"features\", numTrees=9)\n",
        "model = rf.fit(train)\n",
        "# test our model and make predictions using testing data\n",
        "predictions = model.transform(test)\n",
        "predictions.select(\"prediction\", \"BuildingIndex\")\n",
        "\n",
        "# evaluate the performance of the classifier\n",
        "evaluator = MulticlassClassificationEvaluator(labelCol=\"BuildingIndex\",predictionCol=\"prediction\", metricName=\"accuracy\")\n",
        "accuracy = evaluator.evaluate(predictions)\n",
        "print(\"Test Error = %g\" % (1.0 - accuracy))\n",
        "print(\"Accuracy = %g \" % accuracy)"
      ],
      "metadata": {
        "colab": {
          "base_uri": "https://localhost:8080/"
        },
        "id": "pUG0Z7-X3Jwq",
        "outputId": "812626bb-501a-4f5d-cb71-d293fa0a3b6b"
      },
      "execution_count": 169,
      "outputs": [
        {
          "output_type": "stream",
          "name": "stdout",
          "text": [
            "Test Error = 0\n",
            "Accuracy = 1 \n"
          ]
        }
      ]
    },
    {
      "cell_type": "markdown",
      "source": [
        "For this data that we were evaluating the Random Forest Classifier Model gave the most accurate findings and that would be the model we suggest to use"
      ],
      "metadata": {
        "id": "KZZrvPEC840e"
      }
    },
    {
      "cell_type": "code",
      "source": [],
      "metadata": {
        "id": "NzvRtOug9CfM"
      },
      "execution_count": null,
      "outputs": []
    }
  ]
}